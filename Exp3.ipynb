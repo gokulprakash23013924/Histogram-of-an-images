{
 "cells": [
  {
   "cell_type": "markdown",
   "id": "d3cb814c-f231-4ac2-a5d1-afac872fbab6",
   "metadata": {},
   "source": [
    "# EX NO.3-Histogram-of-an-images\n",
    "# NAME : GOKUL PRAKASH M\n",
    "# REG NO : 212223240041"
   ]
  },
  {
   "cell_type": "code",
   "execution_count": null,
   "id": "28e6ca0b-8e88-422a-be5f-277364def66c",
   "metadata": {},
   "outputs": [],
   "source": [
    "import cv2\n",
    "import numpy as np\n",
    "import matplotlib.pyplot as plt\n",
    "\n",
    "image = cv2.imread('Qn4.jpg')\n",
    "\n",
    "gray_image = cv2.cvtColor(image, cv2.COLOR_BGR2GRAY)\n",
    "\n",
    "hist_original = cv2.calcHist([gray_image], [0], None, [256], [0, 256])\n",
    "\n",
    "equalized_image = cv2.equalizeHist(gray_image)\n",
    "\n",
    "hist_equalized = cv2.calcHist([equalized_image], [0], None, [256], [0, 256])\n",
    "\n",
    "plt.figure(figsize=(10, 7))\n",
    "\n",
    "plt.subplot(2, 2, 1)\n",
    "plt.imshow(gray_image, cmap='gray')\n",
    "plt.title('Original Grayscale Image')\n",
    "plt.axis('off')\n",
    "\n",
    "plt.subplot(2, 2, 2)\n",
    "plt.imshow(equalized_image, cmap='gray')\n",
    "plt.title('Equalized Image')\n",
    "plt.axis('off')\n",
    "\n",
    "plt.subplot(2, 2, 3)\n",
    "plt.plot(hist_original, color='black')\n",
    "plt.title('Original Histogram')\n",
    "plt.xlim([0, 256])\n",
    "\n",
    "\n",
    "\n",
    "plt.subplot(2, 2, 4)\n",
    "plt.plot(hist_equalized, color='black')\n",
    "plt.title('Equalized Histogram')\n",
    "plt.xlim([0, 256])\n",
    "\n",
    "plt.tight_layout()\n",
    "plt.show()\n"
   ]
  },
  {
   "cell_type": "code",
   "execution_count": null,
   "id": "14483c9f-5dad-46b4-a879-9e3aee3ef51e",
   "metadata": {},
   "outputs": [],
   "source": []
  }
 ],
 "metadata": {
  "kernelspec": {
   "display_name": "Python 3 (ipykernel)",
   "language": "python",
   "name": "python3"
  },
  "language_info": {
   "codemirror_mode": {
    "name": "ipython",
    "version": 3
   },
   "file_extension": ".py",
   "mimetype": "text/x-python",
   "name": "python",
   "nbconvert_exporter": "python",
   "pygments_lexer": "ipython3",
   "version": "3.11.13"
  }
 },
 "nbformat": 4,
 "nbformat_minor": 5
}
